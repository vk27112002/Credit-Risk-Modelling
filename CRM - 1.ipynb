{
 "cells": [
  {
   "cell_type": "code",
   "execution_count": 161,
   "id": "19396013",
   "metadata": {},
   "outputs": [],
   "source": [
    "import pandas as pd\n",
    "import numpy as np"
   ]
  },
  {
   "cell_type": "code",
   "execution_count": 162,
   "id": "4138a615",
   "metadata": {},
   "outputs": [],
   "source": [
    "data= pd.read_csv('Desktop/loan.csv',low_memory=False)"
   ]
  },
  {
   "cell_type": "code",
   "execution_count": 163,
   "id": "ed5a478f",
   "metadata": {},
   "outputs": [
    {
     "data": {
      "text/plain": [
       "(887379, 74)"
      ]
     },
     "execution_count": 163,
     "metadata": {},
     "output_type": "execute_result"
    }
   ],
   "source": [
    "data.shape"
   ]
  },
  {
   "cell_type": "code",
   "execution_count": 164,
   "id": "96ea0cff",
   "metadata": {},
   "outputs": [
    {
     "data": {
      "text/plain": [
       "Index(['id', 'member_id', 'loan_amnt', 'funded_amnt', 'funded_amnt_inv',\n",
       "       'term', 'int_rate', 'installment', 'grade', 'sub_grade', 'emp_title',\n",
       "       'emp_length', 'home_ownership', 'annual_inc', 'verification_status',\n",
       "       'issue_d', 'loan_status', 'pymnt_plan', 'url', 'desc', 'purpose',\n",
       "       'title', 'zip_code', 'addr_state', 'dti', 'delinq_2yrs',\n",
       "       'earliest_cr_line', 'inq_last_6mths', 'mths_since_last_delinq',\n",
       "       'mths_since_last_record', 'open_acc', 'pub_rec', 'revol_bal',\n",
       "       'revol_util', 'total_acc', 'initial_list_status', 'out_prncp',\n",
       "       'out_prncp_inv', 'total_pymnt', 'total_pymnt_inv', 'total_rec_prncp',\n",
       "       'total_rec_int', 'total_rec_late_fee', 'recoveries',\n",
       "       'collection_recovery_fee', 'last_pymnt_d', 'last_pymnt_amnt',\n",
       "       'next_pymnt_d', 'last_credit_pull_d', 'collections_12_mths_ex_med',\n",
       "       'mths_since_last_major_derog', 'policy_code', 'application_type',\n",
       "       'annual_inc_joint', 'dti_joint', 'verification_status_joint',\n",
       "       'acc_now_delinq', 'tot_coll_amt', 'tot_cur_bal', 'open_acc_6m',\n",
       "       'open_il_6m', 'open_il_12m', 'open_il_24m', 'mths_since_rcnt_il',\n",
       "       'total_bal_il', 'il_util', 'open_rv_12m', 'open_rv_24m', 'max_bal_bc',\n",
       "       'all_util', 'total_rev_hi_lim', 'inq_fi', 'total_cu_tl',\n",
       "       'inq_last_12m'],\n",
       "      dtype='object')"
      ]
     },
     "execution_count": 164,
     "metadata": {},
     "output_type": "execute_result"
    }
   ],
   "source": [
    "data.columns"
   ]
  },
  {
   "cell_type": "code",
   "execution_count": 165,
   "id": "6a0d6d14",
   "metadata": {},
   "outputs": [
    {
     "data": {
      "text/plain": [
       "Current                                                601779\n",
       "Fully Paid                                             207723\n",
       "Charged Off                                             45248\n",
       "Late (31-120 days)                                      11591\n",
       "Issued                                                   8460\n",
       "In Grace Period                                          6253\n",
       "Late (16-30 days)                                        2357\n",
       "Does not meet the credit policy. Status:Fully Paid       1988\n",
       "Default                                                  1219\n",
       "Does not meet the credit policy. Status:Charged Off       761\n",
       "Name: loan_status, dtype: int64"
      ]
     },
     "execution_count": 165,
     "metadata": {},
     "output_type": "execute_result"
    }
   ],
   "source": [
    "data['loan_status'].value_counts()"
   ]
  },
  {
   "cell_type": "code",
   "execution_count": 166,
   "id": "34cedc8a",
   "metadata": {},
   "outputs": [],
   "source": [
    "data=data[(data['loan_status']=='Fully Paid')|( data['loan_status']=='Late (31-120 days)')|\n",
    "          ( data['loan_status']=='Late (16-30 days)')]\n"
   ]
  },
  {
   "cell_type": "code",
   "execution_count": 167,
   "id": "6ec7a6ee",
   "metadata": {},
   "outputs": [
    {
     "data": {
      "text/plain": [
       "(221671, 74)"
      ]
     },
     "execution_count": 167,
     "metadata": {},
     "output_type": "execute_result"
    }
   ],
   "source": [
    "data.shape"
   ]
  },
  {
   "cell_type": "code",
   "execution_count": 168,
   "id": "1e2437a8",
   "metadata": {},
   "outputs": [
    {
     "data": {
      "text/plain": [
       "Fully Paid            207723\n",
       "Late (31-120 days)     11591\n",
       "Late (16-30 days)       2357\n",
       "Name: loan_status, dtype: int64"
      ]
     },
     "execution_count": 168,
     "metadata": {},
     "output_type": "execute_result"
    }
   ],
   "source": [
    "data['loan_status'].value_counts()"
   ]
  },
  {
   "cell_type": "code",
   "execution_count": 169,
   "id": "f9626be5",
   "metadata": {},
   "outputs": [],
   "source": [
    "data['loan_status']=data['loan_status'].apply(lambda x: 'Safe' if x=='Fully Paid' \n",
    "                                             else 'Risky')"
   ]
  },
  {
   "cell_type": "code",
   "execution_count": 170,
   "id": "eddfc644",
   "metadata": {},
   "outputs": [
    {
     "data": {
      "text/plain": [
       "Safe     207723\n",
       "Risky     13948\n",
       "Name: loan_status, dtype: int64"
      ]
     },
     "execution_count": 170,
     "metadata": {},
     "output_type": "execute_result"
    }
   ],
   "source": [
    "data['loan_status'].value_counts()"
   ]
  },
  {
   "cell_type": "code",
   "execution_count": 171,
   "id": "9e177fb4",
   "metadata": {},
   "outputs": [
    {
     "data": {
      "text/html": [
       "<div>\n",
       "<style scoped>\n",
       "    .dataframe tbody tr th:only-of-type {\n",
       "        vertical-align: middle;\n",
       "    }\n",
       "\n",
       "    .dataframe tbody tr th {\n",
       "        vertical-align: top;\n",
       "    }\n",
       "\n",
       "    .dataframe thead th {\n",
       "        text-align: right;\n",
       "    }\n",
       "</style>\n",
       "<table border=\"1\" class=\"dataframe\">\n",
       "  <thead>\n",
       "    <tr style=\"text-align: right;\">\n",
       "      <th></th>\n",
       "      <th>id</th>\n",
       "      <th>member_id</th>\n",
       "      <th>loan_amnt</th>\n",
       "      <th>funded_amnt</th>\n",
       "      <th>funded_amnt_inv</th>\n",
       "      <th>term</th>\n",
       "      <th>int_rate</th>\n",
       "      <th>installment</th>\n",
       "      <th>grade</th>\n",
       "      <th>sub_grade</th>\n",
       "      <th>...</th>\n",
       "      <th>total_bal_il</th>\n",
       "      <th>il_util</th>\n",
       "      <th>open_rv_12m</th>\n",
       "      <th>open_rv_24m</th>\n",
       "      <th>max_bal_bc</th>\n",
       "      <th>all_util</th>\n",
       "      <th>total_rev_hi_lim</th>\n",
       "      <th>inq_fi</th>\n",
       "      <th>total_cu_tl</th>\n",
       "      <th>inq_last_12m</th>\n",
       "    </tr>\n",
       "  </thead>\n",
       "  <tbody>\n",
       "    <tr>\n",
       "      <th>0</th>\n",
       "      <td>1077501</td>\n",
       "      <td>1296599</td>\n",
       "      <td>5000.0</td>\n",
       "      <td>5000.0</td>\n",
       "      <td>4975.0</td>\n",
       "      <td>36 months</td>\n",
       "      <td>10.65</td>\n",
       "      <td>162.87</td>\n",
       "      <td>B</td>\n",
       "      <td>B2</td>\n",
       "      <td>...</td>\n",
       "      <td>NaN</td>\n",
       "      <td>NaN</td>\n",
       "      <td>NaN</td>\n",
       "      <td>NaN</td>\n",
       "      <td>NaN</td>\n",
       "      <td>NaN</td>\n",
       "      <td>NaN</td>\n",
       "      <td>NaN</td>\n",
       "      <td>NaN</td>\n",
       "      <td>NaN</td>\n",
       "    </tr>\n",
       "    <tr>\n",
       "      <th>2</th>\n",
       "      <td>1077175</td>\n",
       "      <td>1313524</td>\n",
       "      <td>2400.0</td>\n",
       "      <td>2400.0</td>\n",
       "      <td>2400.0</td>\n",
       "      <td>36 months</td>\n",
       "      <td>15.96</td>\n",
       "      <td>84.33</td>\n",
       "      <td>C</td>\n",
       "      <td>C5</td>\n",
       "      <td>...</td>\n",
       "      <td>NaN</td>\n",
       "      <td>NaN</td>\n",
       "      <td>NaN</td>\n",
       "      <td>NaN</td>\n",
       "      <td>NaN</td>\n",
       "      <td>NaN</td>\n",
       "      <td>NaN</td>\n",
       "      <td>NaN</td>\n",
       "      <td>NaN</td>\n",
       "      <td>NaN</td>\n",
       "    </tr>\n",
       "    <tr>\n",
       "      <th>3</th>\n",
       "      <td>1076863</td>\n",
       "      <td>1277178</td>\n",
       "      <td>10000.0</td>\n",
       "      <td>10000.0</td>\n",
       "      <td>10000.0</td>\n",
       "      <td>36 months</td>\n",
       "      <td>13.49</td>\n",
       "      <td>339.31</td>\n",
       "      <td>C</td>\n",
       "      <td>C1</td>\n",
       "      <td>...</td>\n",
       "      <td>NaN</td>\n",
       "      <td>NaN</td>\n",
       "      <td>NaN</td>\n",
       "      <td>NaN</td>\n",
       "      <td>NaN</td>\n",
       "      <td>NaN</td>\n",
       "      <td>NaN</td>\n",
       "      <td>NaN</td>\n",
       "      <td>NaN</td>\n",
       "      <td>NaN</td>\n",
       "    </tr>\n",
       "    <tr>\n",
       "      <th>5</th>\n",
       "      <td>1075269</td>\n",
       "      <td>1311441</td>\n",
       "      <td>5000.0</td>\n",
       "      <td>5000.0</td>\n",
       "      <td>5000.0</td>\n",
       "      <td>36 months</td>\n",
       "      <td>7.90</td>\n",
       "      <td>156.46</td>\n",
       "      <td>A</td>\n",
       "      <td>A4</td>\n",
       "      <td>...</td>\n",
       "      <td>NaN</td>\n",
       "      <td>NaN</td>\n",
       "      <td>NaN</td>\n",
       "      <td>NaN</td>\n",
       "      <td>NaN</td>\n",
       "      <td>NaN</td>\n",
       "      <td>NaN</td>\n",
       "      <td>NaN</td>\n",
       "      <td>NaN</td>\n",
       "      <td>NaN</td>\n",
       "    </tr>\n",
       "    <tr>\n",
       "      <th>7</th>\n",
       "      <td>1072053</td>\n",
       "      <td>1288686</td>\n",
       "      <td>3000.0</td>\n",
       "      <td>3000.0</td>\n",
       "      <td>3000.0</td>\n",
       "      <td>36 months</td>\n",
       "      <td>18.64</td>\n",
       "      <td>109.43</td>\n",
       "      <td>E</td>\n",
       "      <td>E1</td>\n",
       "      <td>...</td>\n",
       "      <td>NaN</td>\n",
       "      <td>NaN</td>\n",
       "      <td>NaN</td>\n",
       "      <td>NaN</td>\n",
       "      <td>NaN</td>\n",
       "      <td>NaN</td>\n",
       "      <td>NaN</td>\n",
       "      <td>NaN</td>\n",
       "      <td>NaN</td>\n",
       "      <td>NaN</td>\n",
       "    </tr>\n",
       "  </tbody>\n",
       "</table>\n",
       "<p>5 rows × 74 columns</p>\n",
       "</div>"
      ],
      "text/plain": [
       "        id  member_id  loan_amnt  funded_amnt  funded_amnt_inv        term  \\\n",
       "0  1077501    1296599     5000.0       5000.0           4975.0   36 months   \n",
       "2  1077175    1313524     2400.0       2400.0           2400.0   36 months   \n",
       "3  1076863    1277178    10000.0      10000.0          10000.0   36 months   \n",
       "5  1075269    1311441     5000.0       5000.0           5000.0   36 months   \n",
       "7  1072053    1288686     3000.0       3000.0           3000.0   36 months   \n",
       "\n",
       "   int_rate  installment grade sub_grade  ... total_bal_il il_util  \\\n",
       "0     10.65       162.87     B        B2  ...          NaN     NaN   \n",
       "2     15.96        84.33     C        C5  ...          NaN     NaN   \n",
       "3     13.49       339.31     C        C1  ...          NaN     NaN   \n",
       "5      7.90       156.46     A        A4  ...          NaN     NaN   \n",
       "7     18.64       109.43     E        E1  ...          NaN     NaN   \n",
       "\n",
       "  open_rv_12m  open_rv_24m max_bal_bc all_util total_rev_hi_lim inq_fi  \\\n",
       "0         NaN          NaN        NaN      NaN              NaN    NaN   \n",
       "2         NaN          NaN        NaN      NaN              NaN    NaN   \n",
       "3         NaN          NaN        NaN      NaN              NaN    NaN   \n",
       "5         NaN          NaN        NaN      NaN              NaN    NaN   \n",
       "7         NaN          NaN        NaN      NaN              NaN    NaN   \n",
       "\n",
       "  total_cu_tl inq_last_12m  \n",
       "0         NaN          NaN  \n",
       "2         NaN          NaN  \n",
       "3         NaN          NaN  \n",
       "5         NaN          NaN  \n",
       "7         NaN          NaN  \n",
       "\n",
       "[5 rows x 74 columns]"
      ]
     },
     "execution_count": 171,
     "metadata": {},
     "output_type": "execute_result"
    }
   ],
   "source": [
    "data.head()"
   ]
  },
  {
   "cell_type": "code",
   "execution_count": 172,
   "id": "226d9bc2",
   "metadata": {},
   "outputs": [
    {
     "name": "stdout",
     "output_type": "stream",
     "text": [
      "<class 'pandas.core.frame.DataFrame'>\n",
      "Int64Index: 221671 entries, 0 to 887369\n",
      "Data columns (total 74 columns):\n",
      " #   Column                       Non-Null Count   Dtype  \n",
      "---  ------                       --------------   -----  \n",
      " 0   id                           221671 non-null  int64  \n",
      " 1   member_id                    221671 non-null  int64  \n",
      " 2   loan_amnt                    221671 non-null  float64\n",
      " 3   funded_amnt                  221671 non-null  float64\n",
      " 4   funded_amnt_inv              221671 non-null  float64\n",
      " 5   term                         221671 non-null  object \n",
      " 6   int_rate                     221671 non-null  float64\n",
      " 7   installment                  221671 non-null  float64\n",
      " 8   grade                        221671 non-null  object \n",
      " 9   sub_grade                    221671 non-null  object \n",
      " 10  emp_title                    210229 non-null  object \n",
      " 11  emp_length                   213438 non-null  object \n",
      " 12  home_ownership               221671 non-null  object \n",
      " 13  annual_inc                   221671 non-null  float64\n",
      " 14  verification_status          221671 non-null  object \n",
      " 15  issue_d                      221671 non-null  object \n",
      " 16  loan_status                  221671 non-null  object \n",
      " 17  pymnt_plan                   221671 non-null  object \n",
      " 18  url                          221671 non-null  object \n",
      " 19  desc                         74433 non-null   object \n",
      " 20  purpose                      221671 non-null  object \n",
      " 21  title                        221660 non-null  object \n",
      " 22  zip_code                     221671 non-null  object \n",
      " 23  addr_state                   221671 non-null  object \n",
      " 24  dti                          221671 non-null  float64\n",
      " 25  delinq_2yrs                  221671 non-null  float64\n",
      " 26  earliest_cr_line             221671 non-null  object \n",
      " 27  inq_last_6mths               221671 non-null  float64\n",
      " 28  mths_since_last_delinq       99369 non-null   float64\n",
      " 29  mths_since_last_record       28370 non-null   float64\n",
      " 30  open_acc                     221671 non-null  float64\n",
      " 31  pub_rec                      221671 non-null  float64\n",
      " 32  revol_bal                    221671 non-null  float64\n",
      " 33  revol_util                   221508 non-null  float64\n",
      " 34  total_acc                    221671 non-null  float64\n",
      " 35  initial_list_status          221671 non-null  object \n",
      " 36  out_prncp                    221671 non-null  float64\n",
      " 37  out_prncp_inv                221671 non-null  float64\n",
      " 38  total_pymnt                  221671 non-null  float64\n",
      " 39  total_pymnt_inv              221671 non-null  float64\n",
      " 40  total_rec_prncp              221671 non-null  float64\n",
      " 41  total_rec_int                221671 non-null  float64\n",
      " 42  total_rec_late_fee           221671 non-null  float64\n",
      " 43  recoveries                   221671 non-null  float64\n",
      " 44  collection_recovery_fee      221671 non-null  float64\n",
      " 45  last_pymnt_d                 221510 non-null  object \n",
      " 46  last_pymnt_amnt              221671 non-null  float64\n",
      " 47  next_pymnt_d                 13948 non-null   object \n",
      " 48  last_credit_pull_d           221655 non-null  object \n",
      " 49  collections_12_mths_ex_med   221621 non-null  float64\n",
      " 50  mths_since_last_major_derog  42896 non-null   float64\n",
      " 51  policy_code                  221671 non-null  float64\n",
      " 52  application_type             221671 non-null  object \n",
      " 53  annual_inc_joint             3 non-null       float64\n",
      " 54  dti_joint                    3 non-null       float64\n",
      " 55  verification_status_joint    3 non-null       object \n",
      " 56  acc_now_delinq               221671 non-null  float64\n",
      " 57  tot_coll_amt                 167834 non-null  float64\n",
      " 58  tot_cur_bal                  167834 non-null  float64\n",
      " 59  open_acc_6m                  144 non-null     float64\n",
      " 60  open_il_6m                   144 non-null     float64\n",
      " 61  open_il_12m                  144 non-null     float64\n",
      " 62  open_il_24m                  144 non-null     float64\n",
      " 63  mths_since_rcnt_il           140 non-null     float64\n",
      " 64  total_bal_il                 144 non-null     float64\n",
      " 65  il_util                      126 non-null     float64\n",
      " 66  open_rv_12m                  144 non-null     float64\n",
      " 67  open_rv_24m                  144 non-null     float64\n",
      " 68  max_bal_bc                   144 non-null     float64\n",
      " 69  all_util                     144 non-null     float64\n",
      " 70  total_rev_hi_lim             167834 non-null  float64\n",
      " 71  inq_fi                       144 non-null     float64\n",
      " 72  total_cu_tl                  144 non-null     float64\n",
      " 73  inq_last_12m                 144 non-null     float64\n",
      "dtypes: float64(49), int64(2), object(23)\n",
      "memory usage: 126.8+ MB\n"
     ]
    }
   ],
   "source": [
    "data.info()"
   ]
  },
  {
   "cell_type": "code",
   "execution_count": 173,
   "id": "a77eb66d",
   "metadata": {},
   "outputs": [
    {
     "data": {
      "text/plain": [
       "INDIVIDUAL    221668\n",
       "JOINT              3\n",
       "Name: application_type, dtype: int64"
      ]
     },
     "execution_count": 173,
     "metadata": {},
     "output_type": "execute_result"
    }
   ],
   "source": [
    "data['application_type'].value_counts()"
   ]
  },
  {
   "cell_type": "code",
   "execution_count": 174,
   "id": "2479b19a",
   "metadata": {},
   "outputs": [],
   "source": [
    "data=data.drop(data[data['application_type'] == 'JOINT'].index)\n",
    "data=data.drop('application_type',axis=1)\n"
   ]
  },
  {
   "cell_type": "code",
   "execution_count": 175,
   "id": "cfb4329b",
   "metadata": {},
   "outputs": [],
   "source": [
    "dtypes=np.array(data.dtypes)"
   ]
  },
  {
   "cell_type": "code",
   "execution_count": 176,
   "id": "c54da631",
   "metadata": {},
   "outputs": [
    {
     "data": {
      "text/plain": [
       "array([dtype('int64'), dtype('int64'), dtype('float64'), dtype('float64'),\n",
       "       dtype('float64'), dtype('O'), dtype('float64'), dtype('float64'),\n",
       "       dtype('O'), dtype('O'), dtype('O'), dtype('O'), dtype('O'),\n",
       "       dtype('float64'), dtype('O'), dtype('O'), dtype('O'), dtype('O'),\n",
       "       dtype('O'), dtype('O'), dtype('O'), dtype('O'), dtype('O'),\n",
       "       dtype('O'), dtype('float64'), dtype('float64'), dtype('O'),\n",
       "       dtype('float64'), dtype('float64'), dtype('float64'),\n",
       "       dtype('float64'), dtype('float64'), dtype('float64'),\n",
       "       dtype('float64'), dtype('float64'), dtype('O'), dtype('float64'),\n",
       "       dtype('float64'), dtype('float64'), dtype('float64'),\n",
       "       dtype('float64'), dtype('float64'), dtype('float64'),\n",
       "       dtype('float64'), dtype('float64'), dtype('O'), dtype('float64'),\n",
       "       dtype('O'), dtype('O'), dtype('float64'), dtype('float64'),\n",
       "       dtype('float64'), dtype('float64'), dtype('float64'), dtype('O'),\n",
       "       dtype('float64'), dtype('float64'), dtype('float64'),\n",
       "       dtype('float64'), dtype('float64'), dtype('float64'),\n",
       "       dtype('float64'), dtype('float64'), dtype('float64'),\n",
       "       dtype('float64'), dtype('float64'), dtype('float64'),\n",
       "       dtype('float64'), dtype('float64'), dtype('float64'),\n",
       "       dtype('float64'), dtype('float64'), dtype('float64')], dtype=object)"
      ]
     },
     "execution_count": 176,
     "metadata": {},
     "output_type": "execute_result"
    }
   ],
   "source": [
    "dtypes\n"
   ]
  },
  {
   "cell_type": "code",
   "execution_count": 177,
   "id": "dba0ffac",
   "metadata": {},
   "outputs": [
    {
     "data": {
      "text/plain": [
       "array([     0,      0,      0,      0,      0,      0,      0,      0,\n",
       "            0,      0,  11442,   8233,      0,      0,      0,      0,\n",
       "            0,      0,      0, 147235,      0,     11,      0,      0,\n",
       "            0,      0,      0,      0, 122299, 193298,      0,      0,\n",
       "            0,    163,      0,      0,      0,      0,      0,      0,\n",
       "            0,      0,      0,      0,      0,    160,      0, 207722,\n",
       "           16,     50, 178772,      0, 221668, 221668, 221668,      0,\n",
       "        53837,  53837, 221524, 221524, 221524, 221524, 221528, 221524,\n",
       "       221542, 221524, 221524, 221524, 221524,  53837, 221524, 221524,\n",
       "       221524], dtype=int64)"
      ]
     },
     "execution_count": 177,
     "metadata": {},
     "output_type": "execute_result"
    }
   ],
   "source": [
    "null=np.array(data.isnull().sum())\n",
    "null"
   ]
  },
  {
   "cell_type": "code",
   "execution_count": 178,
   "id": "c1895e05",
   "metadata": {},
   "outputs": [],
   "source": [
    "leakage_columns = ['out_prncp','out_prncp_inv','total_pymnt','total_pymnt_inv','total_rec_prncp','total_rec_int',\n",
    "    'total_rec_late_fee','recoveries','collection_recovery_fee','last_pymnt_d','last_pymnt_amnt','next_pymnt_d',\n",
    "    'last_credit_pull_d'\n",
    "]\n",
    "data= data.drop(columns=[col for col in leakage_columns if col in data.columns])\n"
   ]
  },
  {
   "cell_type": "code",
   "execution_count": 179,
   "id": "95c99218",
   "metadata": {},
   "outputs": [
    {
     "data": {
      "text/plain": [
       "Index(['id', 'member_id', 'loan_amnt', 'funded_amnt', 'funded_amnt_inv',\n",
       "       'term', 'int_rate', 'installment', 'grade', 'sub_grade', 'emp_title',\n",
       "       'emp_length', 'home_ownership', 'annual_inc', 'verification_status',\n",
       "       'issue_d', 'loan_status', 'pymnt_plan', 'url', 'desc', 'purpose',\n",
       "       'title', 'zip_code', 'addr_state', 'dti', 'delinq_2yrs',\n",
       "       'earliest_cr_line', 'inq_last_6mths', 'mths_since_last_delinq',\n",
       "       'mths_since_last_record', 'open_acc', 'pub_rec', 'revol_bal',\n",
       "       'revol_util', 'total_acc', 'initial_list_status',\n",
       "       'collections_12_mths_ex_med', 'mths_since_last_major_derog',\n",
       "       'policy_code', 'annual_inc_joint', 'dti_joint',\n",
       "       'verification_status_joint', 'acc_now_delinq', 'tot_coll_amt',\n",
       "       'tot_cur_bal', 'open_acc_6m', 'open_il_6m', 'open_il_12m',\n",
       "       'open_il_24m', 'mths_since_rcnt_il', 'total_bal_il', 'il_util',\n",
       "       'open_rv_12m', 'open_rv_24m', 'max_bal_bc', 'all_util',\n",
       "       'total_rev_hi_lim', 'inq_fi', 'total_cu_tl', 'inq_last_12m'],\n",
       "      dtype='object')"
      ]
     },
     "execution_count": 179,
     "metadata": {},
     "output_type": "execute_result"
    }
   ],
   "source": [
    "data.columns"
   ]
  },
  {
   "cell_type": "code",
   "execution_count": 180,
   "id": "377848cd",
   "metadata": {},
   "outputs": [],
   "source": [
    "data=data.drop(['annual_inc_joint',\n",
    "       'dti_joint', 'verification_status_joint'],axis=1)"
   ]
  },
  {
   "cell_type": "code",
   "execution_count": 181,
   "id": "20ed49ff",
   "metadata": {},
   "outputs": [
    {
     "data": {
      "text/plain": [
       "(221668, 57)"
      ]
     },
     "execution_count": 181,
     "metadata": {},
     "output_type": "execute_result"
    }
   ],
   "source": [
    "data.shape"
   ]
  },
  {
   "cell_type": "code",
   "execution_count": 182,
   "id": "b6ec2967",
   "metadata": {},
   "outputs": [
    {
     "name": "stdout",
     "output_type": "stream",
     "text": [
      "['desc', 'mths_since_last_record', 'mths_since_last_major_derog', 'open_acc_6m', 'open_il_6m', 'open_il_12m', 'open_il_24m', 'mths_since_rcnt_il', 'total_bal_il', 'il_util', 'open_rv_12m', 'open_rv_24m', 'max_bal_bc', 'all_util', 'inq_fi', 'total_cu_tl', 'inq_last_12m']\n"
     ]
    }
   ],
   "source": [
    "high_missing_cols = [col for col in data.columns if data[col].isnull().mean() > 0.6]\n",
    "print(high_missing_cols)\n",
    "data = data.drop(columns=high_missing_cols)\n"
   ]
  },
  {
   "cell_type": "code",
   "execution_count": 183,
   "id": "c3319110",
   "metadata": {},
   "outputs": [
    {
     "data": {
      "text/plain": [
       "id                             0.000000\n",
       "member_id                      0.000000\n",
       "loan_amnt                      0.000000\n",
       "funded_amnt                    0.000000\n",
       "funded_amnt_inv                0.000000\n",
       "term                           0.000000\n",
       "int_rate                       0.000000\n",
       "installment                    0.000000\n",
       "grade                          0.000000\n",
       "sub_grade                      0.000000\n",
       "emp_title                      5.161773\n",
       "emp_length                     3.714113\n",
       "home_ownership                 0.000000\n",
       "annual_inc                     0.000000\n",
       "verification_status            0.000000\n",
       "issue_d                        0.000000\n",
       "loan_status                    0.000000\n",
       "pymnt_plan                     0.000000\n",
       "url                            0.000000\n",
       "purpose                        0.000000\n",
       "title                          0.004962\n",
       "zip_code                       0.000000\n",
       "addr_state                     0.000000\n",
       "dti                            0.000000\n",
       "delinq_2yrs                    0.000000\n",
       "earliest_cr_line               0.000000\n",
       "inq_last_6mths                 0.000000\n",
       "mths_since_last_delinq        55.172149\n",
       "open_acc                       0.000000\n",
       "pub_rec                        0.000000\n",
       "revol_bal                      0.000000\n",
       "revol_util                     0.073533\n",
       "total_acc                      0.000000\n",
       "initial_list_status            0.000000\n",
       "collections_12_mths_ex_med     0.022556\n",
       "policy_code                    0.000000\n",
       "acc_now_delinq                 0.000000\n",
       "tot_coll_amt                  24.287222\n",
       "tot_cur_bal                   24.287222\n",
       "total_rev_hi_lim              24.287222\n",
       "dtype: float64"
      ]
     },
     "execution_count": 183,
     "metadata": {},
     "output_type": "execute_result"
    }
   ],
   "source": [
    "data.isnull().mean()*100"
   ]
  },
  {
   "cell_type": "code",
   "execution_count": 184,
   "id": "c9d60baa",
   "metadata": {},
   "outputs": [],
   "source": [
    "# For categorical columns with missing values\n",
    "for col in data.select_dtypes(include=['object', 'category']).columns:\n",
    "    if data[col].isnull().any():\n",
    "        data[f'{col}_missing_flag'] = data[col].isnull().astype(int)\n",
    "\n",
    "# For numeric columns with missing values\n",
    "for col in data.select_dtypes(include=['number']).columns:\n",
    "    if data[col].isnull().any():\n",
    "        data[f'{col}_missing_flag'] = data[col].isnull().astype(int)\n"
   ]
  },
  {
   "cell_type": "code",
   "execution_count": 185,
   "id": "fbf8f740",
   "metadata": {},
   "outputs": [
    {
     "data": {
      "text/plain": [
       "Index(['id', 'member_id', 'loan_amnt', 'funded_amnt', 'funded_amnt_inv',\n",
       "       'term', 'int_rate', 'installment', 'grade', 'sub_grade', 'emp_title',\n",
       "       'emp_length', 'home_ownership', 'annual_inc', 'verification_status',\n",
       "       'issue_d', 'loan_status', 'pymnt_plan', 'url', 'purpose', 'title',\n",
       "       'zip_code', 'addr_state', 'dti', 'delinq_2yrs', 'earliest_cr_line',\n",
       "       'inq_last_6mths', 'mths_since_last_delinq', 'open_acc', 'pub_rec',\n",
       "       'revol_bal', 'revol_util', 'total_acc', 'initial_list_status',\n",
       "       'collections_12_mths_ex_med', 'policy_code', 'acc_now_delinq',\n",
       "       'tot_coll_amt', 'tot_cur_bal', 'total_rev_hi_lim',\n",
       "       'emp_title_missing_flag', 'emp_length_missing_flag',\n",
       "       'title_missing_flag', 'mths_since_last_delinq_missing_flag',\n",
       "       'revol_util_missing_flag', 'collections_12_mths_ex_med_missing_flag',\n",
       "       'tot_coll_amt_missing_flag', 'tot_cur_bal_missing_flag',\n",
       "       'total_rev_hi_lim_missing_flag'],\n",
       "      dtype='object')"
      ]
     },
     "execution_count": 185,
     "metadata": {},
     "output_type": "execute_result"
    }
   ],
   "source": [
    "data.columns"
   ]
  },
  {
   "cell_type": "code",
   "execution_count": 186,
   "id": "c7f515d9",
   "metadata": {},
   "outputs": [
    {
     "data": {
      "text/plain": [
       "10+ years    67961\n",
       "2 years      20793\n",
       "< 1 year     18271\n",
       "3 years      17969\n",
       "5 years      15697\n",
       "1 year       14817\n",
       "4 years      14249\n",
       "6 years      12773\n",
       "7 years      12191\n",
       "8 years      10358\n",
       "9 years       8356\n",
       "Name: emp_length, dtype: int64"
      ]
     },
     "execution_count": 186,
     "metadata": {},
     "output_type": "execute_result"
    }
   ],
   "source": [
    "data['emp_length'].value_counts()"
   ]
  },
  {
   "cell_type": "code",
   "execution_count": 190,
   "id": "1fd64944",
   "metadata": {},
   "outputs": [],
   "source": [
    "# Convert emp_length to numeric years\n",
    "data['emp_length'] = data['emp_length'].replace({'10+ years': 10,'9 years': 9,'8 years': 8,'7 years': 7,\n",
    "    '6 years': 6,'5 years': 5,'4 years': 4,'3 years': 3,'2 years': 2,'1 year': 1,'< 1 year': 0,'n/a': np.nan\n",
    "}).astype(float)\n",
    "\n",
    "# Fill missing with median\n",
    "data['emp_length'] = data['emp_length'].fillna(data['emp_length'].median())\n"
   ]
  },
  {
   "cell_type": "code",
   "execution_count": 191,
   "id": "53326503",
   "metadata": {},
   "outputs": [
    {
     "data": {
      "text/plain": [
       "10.0    67961\n",
       "6.0     21006\n",
       "2.0     20793\n",
       "0.0     18271\n",
       "3.0     17969\n",
       "5.0     15697\n",
       "1.0     14817\n",
       "4.0     14249\n",
       "7.0     12191\n",
       "8.0     10358\n",
       "9.0      8356\n",
       "Name: emp_length, dtype: int64"
      ]
     },
     "execution_count": 191,
     "metadata": {},
     "output_type": "execute_result"
    }
   ],
   "source": [
    "data['emp_length'].value_counts()"
   ]
  },
  {
   "cell_type": "code",
   "execution_count": 192,
   "id": "0691c419",
   "metadata": {},
   "outputs": [],
   "source": [
    "data['loan_status']=data['loan_status'].map({'Safe':0,'Risky':1})"
   ]
  },
  {
   "cell_type": "code",
   "execution_count": 193,
   "id": "8c244ad1",
   "metadata": {},
   "outputs": [
    {
     "data": {
      "text/plain": [
       "0    207722\n",
       "1     13946\n",
       "Name: loan_status, dtype: int64"
      ]
     },
     "execution_count": 193,
     "metadata": {},
     "output_type": "execute_result"
    }
   ],
   "source": [
    "data['loan_status'].value_counts()"
   ]
  },
  {
   "cell_type": "code",
   "execution_count": 194,
   "id": "ba1d1503",
   "metadata": {},
   "outputs": [
    {
     "data": {
      "text/plain": [
       " 36 months    176083\n",
       " 60 months     45585\n",
       "Name: term, dtype: int64"
      ]
     },
     "execution_count": 194,
     "metadata": {},
     "output_type": "execute_result"
    }
   ],
   "source": [
    "data['term'].value_counts()"
   ]
  },
  {
   "cell_type": "code",
   "execution_count": 195,
   "id": "ec586e14",
   "metadata": {},
   "outputs": [],
   "source": [
    "# Remove ' months', convert to integer, then to years\n",
    "data['term'] = data['term'].str.replace(' months', '', regex=False).astype(int) / 12\n"
   ]
  },
  {
   "cell_type": "code",
   "execution_count": 196,
   "id": "19ce8405",
   "metadata": {},
   "outputs": [
    {
     "data": {
      "text/plain": [
       "array([3., 5.])"
      ]
     },
     "execution_count": 196,
     "metadata": {},
     "output_type": "execute_result"
    }
   ],
   "source": [
    "data['term'].unique()"
   ]
  },
  {
   "cell_type": "code",
   "execution_count": 198,
   "id": "8e9ef9cf",
   "metadata": {},
   "outputs": [
    {
     "data": {
      "text/plain": [
       "MORTGAGE    111084\n",
       "RENT         91001\n",
       "OWN          19432\n",
       "OTHER          114\n",
       "NONE            36\n",
       "ANY              1\n",
       "Name: home_ownership, dtype: int64"
      ]
     },
     "execution_count": 198,
     "metadata": {},
     "output_type": "execute_result"
    }
   ],
   "source": [
    "data['home_ownership'].value_counts()"
   ]
  },
  {
   "cell_type": "code",
   "execution_count": 206,
   "id": "908161cb",
   "metadata": {},
   "outputs": [],
   "source": [
    "data['home_ownership'] = data['home_ownership'].replace({\n",
    "    'MORTGAGE': 'MORTGAGE',\n",
    "    'RENT': 'RENT',\n",
    "    'OWN': 'OWN',\n",
    "    'OTHER': 'OTHER',\n",
    "    'NONE': 'OTHER',\n",
    "    'ANY': 'OTHER'\n",
    "})\n"
   ]
  },
  {
   "cell_type": "code",
   "execution_count": 207,
   "id": "c82204bd",
   "metadata": {
    "scrolled": true
   },
   "outputs": [
    {
     "data": {
      "text/plain": [
       "MORTGAGE    111084\n",
       "RENT         91001\n",
       "OWN          19432\n",
       "OTHER          151\n",
       "Name: home_ownership, dtype: int64"
      ]
     },
     "execution_count": 207,
     "metadata": {},
     "output_type": "execute_result"
    }
   ],
   "source": [
    "data['home_ownership'].value_counts()"
   ]
  },
  {
   "cell_type": "code",
   "execution_count": 199,
   "id": "e7902841",
   "metadata": {},
   "outputs": [
    {
     "data": {
      "text/plain": [
       "Verified           78818\n",
       "Not Verified       76850\n",
       "Source Verified    66000\n",
       "Name: verification_status, dtype: int64"
      ]
     },
     "execution_count": 199,
     "metadata": {},
     "output_type": "execute_result"
    }
   ],
   "source": [
    "data['verification_status'].value_counts()"
   ]
  },
  {
   "cell_type": "code",
   "execution_count": 202,
   "id": "dbf7c58c",
   "metadata": {},
   "outputs": [],
   "source": [
    "data['verification_status'] = data['verification_status'].replace({\n",
    "    'Verified': 'Verified',\n",
    "    'Source Verified': 'Verified',\n",
    "    'Not Verified': 'Not Verified'\n",
    "})\n"
   ]
  },
  {
   "cell_type": "code",
   "execution_count": 203,
   "id": "24b1713d",
   "metadata": {},
   "outputs": [
    {
     "data": {
      "text/plain": [
       "Verified        144818\n",
       "Not Verified     76850\n",
       "Name: verification_status, dtype: int64"
      ]
     },
     "execution_count": 203,
     "metadata": {},
     "output_type": "execute_result"
    }
   ],
   "source": [
    "data['verification_status'].value_counts()"
   ]
  },
  {
   "cell_type": "code",
   "execution_count": 208,
   "id": "59e7ee16",
   "metadata": {},
   "outputs": [],
   "source": [
    "data.to_csv('eda_data.csv',index=False)"
   ]
  },
  {
   "cell_type": "code",
   "execution_count": null,
   "id": "ee654385",
   "metadata": {},
   "outputs": [],
   "source": []
  }
 ],
 "metadata": {
  "kernelspec": {
   "display_name": "Python 3 (ipykernel)",
   "language": "python",
   "name": "python3"
  },
  "language_info": {
   "codemirror_mode": {
    "name": "ipython",
    "version": 3
   },
   "file_extension": ".py",
   "mimetype": "text/x-python",
   "name": "python",
   "nbconvert_exporter": "python",
   "pygments_lexer": "ipython3",
   "version": "3.13.5"
  }
 },
 "nbformat": 4,
 "nbformat_minor": 5
}
